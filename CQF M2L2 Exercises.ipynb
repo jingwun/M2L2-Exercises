{
 "cells": [
  {
   "cell_type": "markdown",
   "id": "christian-toolbox",
   "metadata": {},
   "source": [
    "<br><font color = darkblue size=6><strong>CQF M2L2 Exercises</strong></font>"
   ]
  },
  {
   "cell_type": "markdown",
   "id": "personal-willow",
   "metadata": {},
   "source": [
    "# Question 1 (a)"
   ]
  },
  {
   "cell_type": "code",
   "execution_count": 131,
   "id": "cloudy-advantage",
   "metadata": {},
   "outputs": [
    {
     "data": {
      "text/plain": [
       "array([[ 0.76228686],\n",
       "       [ 0.84419926],\n",
       "       [-0.98762956],\n",
       "       [ 0.38114343]])"
      ]
     },
     "execution_count": 131,
     "metadata": {},
     "output_type": "execute_result"
    }
   ],
   "source": [
    "# import numpy library\n",
    "import numpy as np\n",
    "\n",
    "# set up expected portfolio return. \n",
    "# the solution assume 10% expected portfolio return, which was not given in the question set \n",
    "m = 0.1 \n",
    "# set up standard deviation vector sigma 4x1\n",
    "sigma = np.array([0.12,0.12,0.15,0.20])\n",
    "# set up return vector mu 4x1\n",
    "mu = np.array([0.08, 0.10, 0.10, 0.14]).reshape(4,1) \n",
    "\n",
    "# calculate S 4x4\n",
    "S = np.diag(sigma)\n",
    "# set up correlation matirx \n",
    "R = np.array([[1,0.2,0.5,0.3], \n",
    "            [0.2,1,0.7,0.4],\n",
    "            [0.5,0.7,1,0.9],\n",
    "            [0.3,0.4,0.9,1]])\n",
    "\n",
    "# calculate covariance matrix 4x4\n",
    "cov = np.linalg.multi_dot([S,R,S])\n",
    "# create 4x1 vector of ones\n",
    "one = np.ones(4)\n",
    "\n",
    "# Calculate A\n",
    "A = np.linalg.multi_dot([one.T, np.linalg.inv(cov), one])\n",
    "# Calculate B\n",
    "B = np.linalg.multi_dot([mu.T, np.linalg.inv(cov), one])\n",
    "# Calculate C\n",
    "C = np.linalg.multi_dot([mu.T, np.linalg.inv(cov), mu])\n",
    "\n",
    "# calculate lambda\n",
    "lam = (A*m - B)/(np.dot(A,C)-np.dot(B,B)) \n",
    "# calculate gamma\n",
    "gam = (C-B*m)/(np.dot(A,C)-np.dot(B,B))\n",
    "\n",
    "# output weight (the answer)\n",
    "w = np.dot(np.linalg.inv(cov), (lam*mu + gam))\n",
    "w"
   ]
  },
  {
   "cell_type": "markdown",
   "id": "confident-measurement",
   "metadata": {},
   "source": [
    "# Question 1(b)"
   ]
  },
  {
   "cell_type": "code",
   "execution_count": 132,
   "id": "suited-mobile",
   "metadata": {},
   "outputs": [
    {
     "data": {
      "text/plain": [
       "array([[0.29827662],\n",
       "       [0.33694211],\n",
       "       [0.21564295],\n",
       "       [0.14913831]])"
      ]
     },
     "execution_count": 132,
     "metadata": {},
     "output_type": "execute_result"
    }
   ],
   "source": [
    "# import numpy library\n",
    "import numpy as np\n",
    "\n",
    "# set up expected portfolio return. \n",
    "# the solution assume 10% expected portfolio return, which was not given in the question set \n",
    "m = 0.1 \n",
    "# set up standard deviation vector sigma 4x1\n",
    "sigma = np.array([0.12,0.12,0.15,0.20])\n",
    "# set up return vector mu 4x1\n",
    "mu = np.array([0.08, 0.10, 0.10, 0.14]).reshape(4,1) \n",
    "\n",
    "# calculate S 4x4\n",
    "S = np.diag(sigma)\n",
    "# set up correlation matirx \n",
    "R = np.array([[1,0,0,0], \n",
    "            [0,1,0,0],\n",
    "            [0,0,1,0],\n",
    "            [0,0,0,1]])\n",
    "# calculate covariance matrix 4x4\n",
    "cov = np.linalg.multi_dot([S,R,S])\n",
    "# create 4x1 vector of ones\n",
    "one = np.ones(4)\n",
    "\n",
    "# Calculate A\n",
    "A = np.linalg.multi_dot([one.T, np.linalg.inv(cov), one])\n",
    "# Calculate B\n",
    "B = np.linalg.multi_dot([mu.T, np.linalg.inv(cov), one])\n",
    "# Calculate C\n",
    "C = np.linalg.multi_dot([mu.T, np.linalg.inv(cov), mu])\n",
    "\n",
    "# calculate lambda\n",
    "lam = (A*m - B)/(np.dot(A,C)-np.dot(B,B)) \n",
    "# calculate gamma\n",
    "gam = (C-B*m)/(np.dot(A,C)-np.dot(B,B))\n",
    "\n",
    "# output weight (the answer)\n",
    "w = np.dot(np.linalg.inv(cov), (lam*mu + gam))\n",
    "w"
   ]
  },
  {
   "cell_type": "markdown",
   "id": "infinite-oliver",
   "metadata": {},
   "source": [
    "# Question 1(c)"
   ]
  },
  {
   "cell_type": "code",
   "execution_count": 136,
   "id": "manual-worth",
   "metadata": {},
   "outputs": [
    {
     "ename": "LinAlgError",
     "evalue": "Matrix is not positive definite",
     "output_type": "error",
     "traceback": [
      "\u001b[1;31m---------------------------------------------------------------------------\u001b[0m",
      "\u001b[1;31mLinAlgError\u001b[0m                               Traceback (most recent call last)",
      "\u001b[1;32m<ipython-input-136-d2a00b6bed45>\u001b[0m in \u001b[0;36m<module>\u001b[1;34m\u001b[0m\n\u001b[0;32m     22\u001b[0m \u001b[1;31m# the below outputs:Matrix is not positive definite. So cannot proceed.\u001b[0m\u001b[1;33m\u001b[0m\u001b[1;33m\u001b[0m\u001b[1;33m\u001b[0m\u001b[0m\n\u001b[0;32m     23\u001b[0m \u001b[1;31m# See the solution provided by instructor\u001b[0m\u001b[1;33m\u001b[0m\u001b[1;33m\u001b[0m\u001b[1;33m\u001b[0m\u001b[0m\n\u001b[1;32m---> 24\u001b[1;33m \u001b[0mnp\u001b[0m\u001b[1;33m.\u001b[0m\u001b[0mlinalg\u001b[0m\u001b[1;33m.\u001b[0m\u001b[0mcholesky\u001b[0m\u001b[1;33m(\u001b[0m\u001b[0mcov\u001b[0m\u001b[1;33m)\u001b[0m\u001b[1;33m\u001b[0m\u001b[1;33m\u001b[0m\u001b[0m\n\u001b[0m",
      "\u001b[1;32m<__array_function__ internals>\u001b[0m in \u001b[0;36mcholesky\u001b[1;34m(*args, **kwargs)\u001b[0m\n",
      "\u001b[1;32m~\\anaconda3\\lib\\site-packages\\numpy\\linalg\\linalg.py\u001b[0m in \u001b[0;36mcholesky\u001b[1;34m(a)\u001b[0m\n\u001b[0;32m    762\u001b[0m     \u001b[0mt\u001b[0m\u001b[1;33m,\u001b[0m \u001b[0mresult_t\u001b[0m \u001b[1;33m=\u001b[0m \u001b[0m_commonType\u001b[0m\u001b[1;33m(\u001b[0m\u001b[0ma\u001b[0m\u001b[1;33m)\u001b[0m\u001b[1;33m\u001b[0m\u001b[1;33m\u001b[0m\u001b[0m\n\u001b[0;32m    763\u001b[0m     \u001b[0msignature\u001b[0m \u001b[1;33m=\u001b[0m \u001b[1;34m'D->D'\u001b[0m \u001b[1;32mif\u001b[0m \u001b[0misComplexType\u001b[0m\u001b[1;33m(\u001b[0m\u001b[0mt\u001b[0m\u001b[1;33m)\u001b[0m \u001b[1;32melse\u001b[0m \u001b[1;34m'd->d'\u001b[0m\u001b[1;33m\u001b[0m\u001b[1;33m\u001b[0m\u001b[0m\n\u001b[1;32m--> 764\u001b[1;33m     \u001b[0mr\u001b[0m \u001b[1;33m=\u001b[0m \u001b[0mgufunc\u001b[0m\u001b[1;33m(\u001b[0m\u001b[0ma\u001b[0m\u001b[1;33m,\u001b[0m \u001b[0msignature\u001b[0m\u001b[1;33m=\u001b[0m\u001b[0msignature\u001b[0m\u001b[1;33m,\u001b[0m \u001b[0mextobj\u001b[0m\u001b[1;33m=\u001b[0m\u001b[0mextobj\u001b[0m\u001b[1;33m)\u001b[0m\u001b[1;33m\u001b[0m\u001b[1;33m\u001b[0m\u001b[0m\n\u001b[0m\u001b[0;32m    765\u001b[0m     \u001b[1;32mreturn\u001b[0m \u001b[0mwrap\u001b[0m\u001b[1;33m(\u001b[0m\u001b[0mr\u001b[0m\u001b[1;33m.\u001b[0m\u001b[0mastype\u001b[0m\u001b[1;33m(\u001b[0m\u001b[0mresult_t\u001b[0m\u001b[1;33m,\u001b[0m \u001b[0mcopy\u001b[0m\u001b[1;33m=\u001b[0m\u001b[1;32mFalse\u001b[0m\u001b[1;33m)\u001b[0m\u001b[1;33m)\u001b[0m\u001b[1;33m\u001b[0m\u001b[1;33m\u001b[0m\u001b[0m\n\u001b[0;32m    766\u001b[0m \u001b[1;33m\u001b[0m\u001b[0m\n",
      "\u001b[1;32m~\\anaconda3\\lib\\site-packages\\numpy\\linalg\\linalg.py\u001b[0m in \u001b[0;36m_raise_linalgerror_nonposdef\u001b[1;34m(err, flag)\u001b[0m\n\u001b[0;32m     89\u001b[0m \u001b[1;33m\u001b[0m\u001b[0m\n\u001b[0;32m     90\u001b[0m \u001b[1;32mdef\u001b[0m \u001b[0m_raise_linalgerror_nonposdef\u001b[0m\u001b[1;33m(\u001b[0m\u001b[0merr\u001b[0m\u001b[1;33m,\u001b[0m \u001b[0mflag\u001b[0m\u001b[1;33m)\u001b[0m\u001b[1;33m:\u001b[0m\u001b[1;33m\u001b[0m\u001b[1;33m\u001b[0m\u001b[0m\n\u001b[1;32m---> 91\u001b[1;33m     \u001b[1;32mraise\u001b[0m \u001b[0mLinAlgError\u001b[0m\u001b[1;33m(\u001b[0m\u001b[1;34m\"Matrix is not positive definite\"\u001b[0m\u001b[1;33m)\u001b[0m\u001b[1;33m\u001b[0m\u001b[1;33m\u001b[0m\u001b[0m\n\u001b[0m\u001b[0;32m     92\u001b[0m \u001b[1;33m\u001b[0m\u001b[0m\n\u001b[0;32m     93\u001b[0m \u001b[1;32mdef\u001b[0m \u001b[0m_raise_linalgerror_eigenvalues_nonconvergence\u001b[0m\u001b[1;33m(\u001b[0m\u001b[0merr\u001b[0m\u001b[1;33m,\u001b[0m \u001b[0mflag\u001b[0m\u001b[1;33m)\u001b[0m\u001b[1;33m:\u001b[0m\u001b[1;33m\u001b[0m\u001b[1;33m\u001b[0m\u001b[0m\n",
      "\u001b[1;31mLinAlgError\u001b[0m: Matrix is not positive definite"
     ]
    }
   ],
   "source": [
    "# import numpy library\n",
    "import numpy as np\n",
    "\n",
    "# set up expected portfolio return. \n",
    "# the solution assume 10% expected portfolio return, which was not given in the question set \n",
    "m = 0.1 \n",
    "# set up standard deviation vector sigma 4x1\n",
    "sigma = np.array([0.12,0.12,0.15,0.20])\n",
    "# set up return vector mu 4x1\n",
    "mu = np.array([0.08, 0.10, 0.10, 0.14]).reshape(4,1) \n",
    "\n",
    "# calculate S 4x4\n",
    "S = np.diag(sigma)\n",
    "# set up correlation matirx \n",
    "R = np.array([[1,1,1,1], \n",
    "            [1,1,1,1],\n",
    "            [1,1,1,1],\n",
    "            [1,1,1,1]])\n",
    "# calculate covariance matrix 4x4\n",
    "cov = np.linalg.multi_dot([S,R,S])\n",
    "\n",
    "# the below outputs:Matrix is not positive definite. So cannot proceed.\n",
    "# See the solution provided by instructor\n",
    "np.linalg.cholesky(cov)\n"
   ]
  },
  {
   "cell_type": "markdown",
   "id": "fabulous-martin",
   "metadata": {},
   "source": [
    "# Question 3"
   ]
  },
  {
   "cell_type": "code",
   "execution_count": 144,
   "id": "fifty-discovery",
   "metadata": {},
   "outputs": [
    {
     "data": {
      "text/plain": [
       "array([[ 0.93891181],\n",
       "       [ 1.66470242],\n",
       "       [-3.35376154],\n",
       "       [ 1.75014732]])"
      ]
     },
     "execution_count": 144,
     "metadata": {},
     "output_type": "execute_result"
    }
   ],
   "source": [
    "# import numpy library\n",
    "import numpy as np\n",
    "\n",
    "# set up expected portfolio return. \n",
    "# the solution assume 10% expected portfolio return, which was not given in the question set \n",
    "r = 0.05 \n",
    "# set up standard deviation vector sigma 4x1\n",
    "sigma = np.array([0.12,0.12,0.15,0.20])\n",
    "# set up return vector mu 4x1\n",
    "mu = np.array([0.08, 0.10, 0.10, 0.14]).reshape(4,1) \n",
    "\n",
    "# calculate S 4x4\n",
    "S = np.diag(sigma)\n",
    "# set up correlation matirx \n",
    "R = np.array([[1,0.2,0.5,0.3], \n",
    "            [0.2,1,0.7,0.4],\n",
    "            [0.5,0.7,1,0.9],\n",
    "            [0.3,0.4,0.9,1]])\n",
    "\n",
    "# calculate covariance matrix 4x4\n",
    "cov = np.linalg.multi_dot([S,R,S])\n",
    "# create 4x1 vector of ones\n",
    "one = np.ones(4).reshape(4,1)\n",
    "\n",
    "# Calculate A\n",
    "A = np.linalg.multi_dot([one.T, np.linalg.inv(cov), one])\n",
    "# Calculate B\n",
    "B = np.linalg.multi_dot([mu.T, np.linalg.inv(cov), one])\n",
    "\n",
    "# output weight (the answer)\n",
    "w = np.dot(np.linalg.inv(cov),(mu-r*one))/(B-A*r)\n",
    "w"
   ]
  },
  {
   "cell_type": "markdown",
   "id": "french-mattress",
   "metadata": {},
   "source": [
    "# Question 4"
   ]
  },
  {
   "cell_type": "markdown",
   "id": "plain-local",
   "metadata": {},
   "source": [
    "<img src=Q41.jpg>"
   ]
  },
  {
   "cell_type": "markdown",
   "id": "loose-pakistan",
   "metadata": {},
   "source": [
    "**Solution:**\n",
    "\n",
    "(1) Calculate the boundary (i.e. $r(W)$ and $\\sigma_\\pi$):\n",
    "\n",
    "$r(W) = W_A \\times \\mu_A + (1-W_A) \\times \\mu_B$\n",
    "$= W \\times 0.1 + (1-W) \\times 0.2 = 0.2-0.1W$\n",
    "\n",
    "$\\sigma^2_\\pi(W) = W^2_A\\sigma^2_A + 2\\rho W_A W_B\\sigma_A\\sigma_B + W^2_B\\sigma^2_B$\n",
    "\n",
    "$= W^2\\times 0.2^2 + 2\\times0.5\\times W\\times(1-W)\\times0.2\\times 0.3 + (1-W)^2\\times0.3^2$\n",
    "\n",
    "$=0.07W^2-0.12W+0.09$\n",
    "\n",
    "$\\rightarrow \\sigma_\\pi = \\sqrt{0.07W^2-0.12W+0.09}$\n",
    "\n",
    "(2) Plot the boundary by varying W\n",
    "* The blue line below is the boundary\n",
    "* The section above the red start is the efficient frontier\n"
   ]
  },
  {
   "cell_type": "code",
   "execution_count": 49,
   "id": "lyric-symphony",
   "metadata": {},
   "outputs": [
    {
     "data": {
      "text/html": [
       "        <script type=\"text/javascript\">\n",
       "        window.PlotlyConfig = {MathJaxConfig: 'local'};\n",
       "        if (window.MathJax) {MathJax.Hub.Config({SVG: {font: \"STIX-Web\"}});}\n",
       "        if (typeof require !== 'undefined') {\n",
       "        require.undef(\"plotly\");\n",
       "        requirejs.config({\n",
       "            paths: {\n",
       "                'plotly': ['https://cdn.plot.ly/plotly-latest.min']\n",
       "            }\n",
       "        });\n",
       "        require(['plotly'], function(Plotly) {\n",
       "            window._Plotly = Plotly;\n",
       "        });\n",
       "        }\n",
       "        </script>\n",
       "        "
      ]
     },
     "metadata": {},
     "output_type": "display_data"
    },
    {
     "data": {
      "image/png": "[encoded data removed]",
      "text/plain": [
       "<Figure size 1152x576 with 1 Axes>"
      ]
     },
     "metadata": {
      "needs_background": "light"
     },
     "output_type": "display_data"
    }
   ],
   "source": [
    "## Visulization\n",
    "\n",
    "# import libraries\n",
    "import cufflinks as cf\n",
    "cf.set_config_file(offline=True)\n",
    "import numpy as np\n",
    "import pandas as pd\n",
    "\n",
    "# initialize the lists\n",
    "r_ws=[]; sigma_pis=[]; ws=[]\n",
    "\n",
    "# simulate 5000 portfolios\n",
    "for i in range (5000):\n",
    "    \n",
    "    # generate random weights for W\n",
    "    w = np.random.rand()\n",
    "    \n",
    "    # calculate r(W) and Sigma_pi\n",
    "    r_w = 0.2-0.1*w\n",
    "    sigma_pi = np.sqrt(0.07*w**2-0.12*w+0.09)\n",
    "    \n",
    "    # append\n",
    "    r_ws.append(r_w)\n",
    "    sigma_pis.append(sigma_pi)\n",
    "    ws.append(w)\n",
    "\n",
    "# create a dataframe\n",
    "return_risk = pd.DataFrame({'Expected Return':r_ws, 'Expected Volatility': sigma_pis, 'Asset A Weight': ws})\n",
    "\n",
    "# identify the minimum risk portfolio\n",
    "min_return = return_risk['Expected Return'][return_risk['Expected Volatility'].idxmin()]\n",
    "                                \n",
    "    \n",
    "# # Plot with cufflnks\n",
    "# return_risk.iplot(kind='scatter', x='Expected Volatility', y='Expected Return', mode='markers',\n",
    "#                   title='Boundary of the opportunity set')\n",
    "# fig.add_trace(go.scatter(x='Expected Volatility', y='Expected Return', mode='markers'))\n",
    "                            \n",
    "                            \n",
    "# visualization using matplotlib\n",
    "\n",
    "import matplotlib\n",
    "import matplotlib.pyplot as plt\n",
    "\n",
    "fig = plt.figure(figsize=(16,8))\n",
    "ax = plt.axes()\n",
    "\n",
    "ax.set_title('Boundary of Opportunity Set & Efficient Frontier Portfolio')\n",
    "\n",
    "# Efficient Frontier\n",
    "ax.scatter(return_risk['Expected Volatility'], return_risk['Expected Return'], marker = 'x')\n",
    "\n",
    "# Minimum Variance Portfolio\n",
    "min_sigma = min(sigma_pis)\n",
    "min_return = return_risk['Expected Return'][return_risk['Expected Volatility'].idxmin()]\n",
    "\n",
    "ax.plot(min_sigma, min_return, 'r*', markersize =50.0)\n",
    "\n",
    "ax.set_xlabel('Expected Volatility')\n",
    "ax.set_ylabel('Expected Return')\n",
    "ax.grid(True)\n"
   ]
  },
  {
   "cell_type": "markdown",
   "id": "exclusive-excellence",
   "metadata": {},
   "source": [
    "(4) To find CML with the risk free asset of 5% return, we need to find the tangency portfolio:\n",
    "\n",
    "According to M2L2 notes, for tangency portfolio, $w_t = \\frac{\\sum^{-1}(\\mu-r1)}{B-Ar}$"
   ]
  },
  {
   "cell_type": "code",
   "execution_count": 121,
   "id": "graphic-psychiatry",
   "metadata": {},
   "outputs": [
    {
     "name": "stdout",
     "output_type": "stream",
     "text": [
      "The market portfolio is asset B\n",
      "The CML is: portfolio return = 0.05+[[0.5]]x portfolio vol\n"
     ]
    }
   ],
   "source": [
    "# set up a 2x2 diagonal vector for standard deviation\n",
    "sigma = np.array([0.2,0.3])\n",
    "S = np.diag(sigma)\n",
    "\n",
    "# set up a 2x2 correlation matirx \n",
    "R = np.array([[1,0.5], \n",
    "            [0.5,1]])\n",
    "\n",
    "# Calculate covariance matrix\n",
    "cov = np.linalg.multi_dot([S,R,S])\n",
    "\n",
    "# set up a 2x1 return vector\n",
    "mu = np.array([0.1,0.2]).reshape(2,1)\n",
    "\n",
    "# set up a 2x1 ones vector\n",
    "ones = np.array([1,1]).reshape(2,1)\n",
    "\n",
    "# set up a 2x1 r vector\n",
    "r = 0.05\n",
    "\n",
    "# Calculate B and A\n",
    "B = np.linalg.multi_dot([mu.T, np.linalg.inv(cov), ones])\n",
    "A = np.linalg.multi_dot([ones.T, np.linalg.inv(cov), ones])\n",
    "\n",
    "# find the weights at the tangency portfolio\n",
    "w = np.dot(np.linalg.inv(cov), (mu-r*ones))/(B-r*A)\n",
    "\n",
    "# calculate sharpe ratio\n",
    "mu_tangent = np.dot(w.T,mu)\n",
    "sigma_tangent = np.sqrt(np.linalg.multi_dot([w.T,cov,w]))\n",
    "sharpe = (mu_tangent-r)/sigma_tangent\n",
    "print ('The market portfolio is asset B')\n",
    "print ('The CML is: portfolio return = 0.05+'+str(sharpe)+'x portfolio vol')"
   ]
  }
 ],
 "metadata": {
  "hide_input": false,
  "kernelspec": {
   "display_name": "Python 3",
   "language": "python",
   "name": "python3"
  },
  "language_info": {
   "codemirror_mode": {
    "name": "ipython",
    "version": 3
   },
   "file_extension": ".py",
   "mimetype": "text/x-python",
   "name": "python",
   "nbconvert_exporter": "python",
   "pygments_lexer": "ipython3",
   "version": "3.8.5"
  },
  "toc": {
   "base_numbering": 1,
   "nav_menu": {},
   "number_sections": true,
   "sideBar": true,
   "skip_h1_title": false,
   "title_cell": "Table of Contents",
   "title_sidebar": "Contents",
   "toc_cell": false,
   "toc_position": {},
   "toc_section_display": true,
   "toc_window_display": false
  }
 },
 "nbformat": 4,
 "nbformat_minor": 5
}
